{
  "nbformat": 4,
  "nbformat_minor": 0,
  "metadata": {
    "colab": {
      "provenance": [],
      "authorship_tag": "ABX9TyNBcWmCg+7coFDb8udVzwx6",
      "include_colab_link": true
    },
    "kernelspec": {
      "name": "python3",
      "display_name": "Python 3"
    },
    "language_info": {
      "name": "python"
    }
  },
  "cells": [
    {
      "cell_type": "markdown",
      "metadata": {
        "id": "view-in-github",
        "colab_type": "text"
      },
      "source": [
        "<a href=\"https://colab.research.google.com/github/RicAntonio/Police_Shootings_2015-2024_Clasificacion/blob/main/Police_Shootings_2015_2024.ipynb\" target=\"_parent\"><img src=\"https://colab.research.google.com/assets/colab-badge.svg\" alt=\"Open In Colab\"/></a>"
      ]
    },
    {
      "cell_type": "markdown",
      "source": [
        "Disparos policiales \"Tiroteos\" desde 2015 a 2024"
      ],
      "metadata": {
        "id": "MvJ_HA5B1jvz"
      }
    },
    {
      "cell_type": "code",
      "execution_count": null,
      "metadata": {
        "colab": {
          "base_uri": "https://localhost:8080/"
        },
        "id": "5AtTsqYuKh-9",
        "outputId": "25ba8fea-c5a8-45cf-d03b-ad1622f3ce74"
      },
      "outputs": [
        {
          "output_type": "stream",
          "name": "stdout",
          "text": [
            "Mounted at /content/drive\n",
            "['Colab Notebooks', 'Pepsico_Data.csv', 'Pepsico_Project', 'Police_shootings_2015_2024', 'Police_shootings_2015_2024.csv', 'processed_shooting_data.csv']\n",
            "Index(['date', 'name', 'age', 'gender', 'armed', 'race', 'city', 'state',\n",
            "       'flee', 'body_camera', 'signs_of_mental_illness',\n",
            "       'police_departments_involved'],\n",
            "      dtype='object')\n"
          ]
        }
      ],
      "source": [
        "import pandas as pd\n",
        "from google.colab import drive\n",
        "import os\n",
        "\n",
        "# Montar Google Drive\n",
        "drive.mount('/content/drive' , force_remount = True)\n",
        "\n",
        "# Listar archivos en 'My Drive' para verificar la ruta\n",
        "print(os.listdir('/content/drive/My Drive'))\n",
        "\n",
        "# Intenta cargar el archivo después de verificar su ubicación\n",
        "data = pd.read_csv('/content/drive/My Drive/Police_shootings_2015_2024.csv')\n",
        "\n",
        "# Verificar las columnas disponibles en el DataFrame\n",
        "print(data.columns)"
      ]
    },
    {
      "cell_type": "code",
      "source": [
        "import pandas as pd\n",
        "from google.colab import drive\n",
        "import os\n",
        "\n",
        "# Montar Google Drive\n",
        "drive.mount('/content/drive')\n",
        "\n",
        "# Intenta cargar el archivo después de verificar su ubicación\n",
        "data = pd.read_csv('/content/drive/My Drive/Police_shootings_2015_2024.csv')\n",
        "\n",
        "# Verificar las columnas disponibles en el DataFrame\n",
        "print(data.columns)\n",
        "\n",
        "# Supongamos que la columna correcta es 'outcome' en lugar de 'status'\n",
        "# Preprocesamiento de datos\n",
        "data['date'] = pd.to_datetime(data['date'])\n",
        "data['age'].fillna(data['age'].median(), inplace=True)\n",
        "\n",
        "# Ingeniería de características (ajusta los nombres de columna según corresponda)\n",
        "data['is_male'] = data['gender'].apply(lambda x: 1 if x == 'M' else 0)\n",
        "data['is_fatal'] = data['armed'].apply(lambda x: 1 if x == 'Fatal' else 0)  # Asegúrate de usar el nombre correcto de la columna\n",
        "\n",
        "# Guardar las características procesadas y el objetivo en Google Drive\n",
        "data.to_csv('/content/drive/My Drive/processed_shooting_data.csv', index=False)\n"
      ],
      "metadata": {
        "colab": {
          "base_uri": "https://localhost:8080/"
        },
        "id": "VW0sRrjZPjqQ",
        "outputId": "c6f68971-3eb9-46f1-ad95-c9f552cf26e4"
      },
      "execution_count": null,
      "outputs": [
        {
          "output_type": "stream",
          "name": "stdout",
          "text": [
            "Drive already mounted at /content/drive; to attempt to forcibly remount, call drive.mount(\"/content/drive\", force_remount=True).\n",
            "Index(['date', 'name', 'age', 'gender', 'armed', 'race', 'city', 'state',\n",
            "       'flee', 'body_camera', 'signs_of_mental_illness',\n",
            "       'police_departments_involved'],\n",
            "      dtype='object')\n"
          ]
        }
      ]
    },
    {
      "cell_type": "code",
      "source": [
        "import pandas as pd\n",
        "from sklearn.model_selection import train_test_split\n",
        "from sklearn.ensemble import RandomForestClassifier\n",
        "from sklearn.preprocessing import OneHotEncoder\n",
        "import pickle\n",
        "from google.colab import drive\n",
        "\n",
        "# Montar Google Drive\n",
        "drive.mount('/content/drive' , force_remount=True)\n",
        "\n",
        "# Cargar los datos procesados\n",
        "data = pd.read_csv('/content/drive/My Drive/processed_shooting_data.csv')\n",
        "\n",
        "# Definir características y objetivo\n",
        "X = data[['age', 'is_male', 'armed', 'city']]\n",
        "y = data['is_fatal']\n",
        "\n",
        "# Aplicar One-Hot Encoding a las características categóricas\n",
        "encoder = OneHotEncoder(drop='first', sparse_output=False)\n",
        "X_encoded = encoder.fit_transform(X[['armed', 'city']])\n",
        "\n",
        "# Convertir el resultado de One-Hot Encoding a un DataFrame y unirlo con las otras características\n",
        "X_encoded_df = pd.DataFrame(X_encoded, columns=encoder.get_feature_names_out(['armed', 'city']))\n",
        "X = pd.concat([X[['age', 'is_male']], X_encoded_df], axis=1)\n",
        "\n",
        "# Dividir los datos\n",
        "X_train, X_test, y_train, y_test = train_test_split(X, y, test_size=0.2, random_state=42)\n",
        "\n",
        "# Entrenar el modelo\n",
        "model = RandomForestClassifier()\n",
        "model.fit(X_train, y_train)\n",
        "\n",
        "# Guardar el modelo en Google Drive\n",
        "with open('/content/drive/My Drive/police_shooting_model.pkl', 'wb') as f:\n",
        "    pickle.dump(model, f)\n"
      ],
      "metadata": {
        "colab": {
          "base_uri": "https://localhost:8080/"
        },
        "id": "dUshpqQmV1TX",
        "outputId": "f008da97-1f27-4503-c1b9-7a458709a5dc"
      },
      "execution_count": null,
      "outputs": [
        {
          "output_type": "stream",
          "name": "stdout",
          "text": [
            "Mounted at /content/drive\n"
          ]
        }
      ]
    },
    {
      "cell_type": "code",
      "source": [
        "import pandas as pd\n",
        "import pickle\n",
        "from google.colab import drive\n",
        "from sklearn.preprocessing import OneHotEncoder\n",
        "\n",
        "# Montar Google Drive\n",
        "drive.mount('/content/drive', force_remount=True)\n",
        "\n",
        "# Cargar el modelo entrenado\n",
        "with open('/content/drive/My Drive/police_shooting_model.pkl', 'rb') as f:\n",
        "    model = pickle.load(f)\n",
        "\n",
        "# Cargar el lote más reciente de datos\n",
        "data = pd.read_csv('/content/drive/My Drive/processed_shooting_data.csv')\n",
        "\n",
        "# Asegurarse de que las columnas categóricas se codifiquen igual que durante el entrenamiento\n",
        "# Aplicar One-Hot Encoding a las características categóricas\n",
        "encoder = OneHotEncoder(drop='first', sparse_output=False)\n",
        "\n",
        "# Codificar los mismos datos categóricos que se utilizaron en el entrenamiento\n",
        "X_categorical = data[['armed', 'city']]\n",
        "X_encoded = encoder.fit_transform(X_categorical)\n",
        "\n",
        "# Convertir el resultado de One-Hot Encoding a un DataFrame y unirlo con las otras características\n",
        "X_encoded_df = pd.DataFrame(X_encoded, columns=encoder.get_feature_names_out(['armed', 'city']))\n",
        "X = pd.concat([data[['age', 'is_male']], X_encoded_df], axis=1)\n",
        "\n",
        "# Generar predicciones\n",
        "predictions = model.predict(X)\n",
        "\n",
        "# Guardar las predicciones en Google Drive\n",
        "predicted_data = data.copy()\n",
        "predicted_data['prediction'] = predictions\n",
        "predicted_data.to_csv('/content/drive/My Drive/predicted_shootings.csv', index=False)\n"
      ],
      "metadata": {
        "colab": {
          "base_uri": "https://localhost:8080/"
        },
        "id": "fH4V2rQiZcMz",
        "outputId": "b7be421a-7029-4be8-e7ff-a3d27247cf77"
      },
      "execution_count": null,
      "outputs": [
        {
          "output_type": "stream",
          "name": "stdout",
          "text": [
            "Mounted at /content/drive\n"
          ]
        }
      ]
    }
  ]
}